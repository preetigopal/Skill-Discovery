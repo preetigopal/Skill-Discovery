{
 "cells": [
  {
   "cell_type": "code",
   "execution_count": 1,
   "metadata": {},
   "outputs": [],
   "source": [
    "import json\n",
    "import numpy as np\n",
    "import pandas as pd\n",
    "import os"
   ]
  },
  {
   "cell_type": "code",
   "execution_count": 3,
   "metadata": {},
   "outputs": [],
   "source": [
    "DATA_PATH = 'train-v2.0.json'\n",
    "with open(DATA_PATH, \"r\", encoding='utf-8') as reader:\n",
    "    squad_dataset = json.load(reader)"
   ]
  },
  {
   "cell_type": "code",
   "execution_count": 4,
   "metadata": {},
   "outputs": [],
   "source": [
    "from utils_squad import read_squad_examples"
   ]
  },
  {
   "cell_type": "code",
   "execution_count": 5,
   "metadata": {},
   "outputs": [],
   "source": [
    "input_file = DATA_PATH\n",
    "model_name_or_path = 'bert-large-uncased-whole-word-masking'\n",
    "max_seq_length = 384\n",
    "evaluate = False\n",
    "version_2_with_negative = True\n"
   ]
  },
  {
   "cell_type": "code",
   "execution_count": 6,
   "metadata": {},
   "outputs": [],
   "source": [
    "cached_features_file = os.path.join(os.path.dirname(input_file), 'cached_{}_{}_{}'.format(\n",
    "    'dev' if evaluate else 'train',\n",
    "    list(filter(None, model_name_or_path.split('/'))).pop(),\n",
    "    str(max_seq_length)))\n",
    "\n",
    "examples = read_squad_examples(input_file=input_file,\n",
    "                                        is_training=not evaluate,\n",
    "                                        version_2_with_negative=version_2_with_negative)"
   ]
  },
  {
   "cell_type": "code",
   "execution_count": 7,
   "metadata": {},
   "outputs": [
    {
     "name": "stdout",
     "output_type": "stream",
     "text": [
      "130319\n",
      "How high did ''Deja Vu'' climb on the Billboard chart?\n"
     ]
    }
   ],
   "source": [
    "print(len(examples))\n",
    "print(examples[155].question_text)"
   ]
  },
  {
   "cell_type": "code",
   "execution_count": 8,
   "metadata": {},
   "outputs": [],
   "source": [
    "import torch"
   ]
  },
  {
   "cell_type": "code",
   "execution_count": 9,
   "metadata": {},
   "outputs": [],
   "source": [
    "torch.save(examples, '../outputs/squad_examples_train_data.pt') \n"
   ]
  }
 ],
 "metadata": {
  "kernelspec": {
   "display_name": "Python 3",
   "language": "python",
   "name": "python3"
  },
  "language_info": {
   "codemirror_mode": {
    "name": "ipython",
    "version": 3
   },
   "file_extension": ".py",
   "mimetype": "text/x-python",
   "name": "python",
   "nbconvert_exporter": "python",
   "pygments_lexer": "ipython3",
   "version": "3.8.3"
  }
 },
 "nbformat": 4,
 "nbformat_minor": 4
}
