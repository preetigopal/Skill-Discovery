{
 "cells": [
  {
   "cell_type": "code",
   "execution_count": 1,
   "metadata": {},
   "outputs": [],
   "source": [
    "import numpy as np\n",
    "import torch"
   ]
  },
  {
   "cell_type": "code",
   "execution_count": 2,
   "metadata": {},
   "outputs": [],
   "source": [
    "eval_examples = torch.load('../outputs/squad_examples_train_data.pt')"
   ]
  },
  {
   "cell_type": "code",
   "execution_count": 3,
   "metadata": {},
   "outputs": [
    {
     "name": "stdout",
     "output_type": "stream",
     "text": [
      "130319\n",
      "<class 'list'>\n"
     ]
    }
   ],
   "source": [
    "print(len(eval_examples))\n",
    "print(type(eval_examples))"
   ]
  },
  {
   "cell_type": "code",
   "execution_count": 4,
   "metadata": {},
   "outputs": [
    {
     "data": {
      "text/plain": [
       "qas_id: 56bf6e823aeaaa14008c962a, question_text: Which album was darker in tone from her previous work?, doc_tokens: [Following the disbandment of Destiny's Child in June 2005, she released her second solo album, B'Day (2006), which contained hits \"Déjà Vu\", \"Irreplaceable\", and \"Beautiful Liar\". Beyoncé also ventured into acting, with a Golden Globe-nominated performance in Dreamgirls (2006), and starring roles in The Pink Panther (2006) and Obsessed (2009). Her marriage to rapper Jay Z and portrayal of Etta James in Cadillac Records (2008) influenced her third album, I Am... Sasha Fierce (2008), which saw the birth of her alter-ego Sasha Fierce and earned a record-setting six Grammy Awards in 2010, including Song of the Year for \"Single Ladies (Put a Ring on It)\". Beyoncé took a hiatus from music in 2010 and took over management of her career; her fourth album 4 (2011) was subsequently mellower in tone, exploring 1970s funk, 1980s pop, and 1990s soul. Her critically acclaimed fifth studio album, Beyoncé (2013), was distinguished from previous releases by its experimental production and exploration of darker themes.], start_position: 26, end_position: 26"
      ]
     },
     "execution_count": 4,
     "metadata": {},
     "output_type": "execute_result"
    }
   ],
   "source": [
    "eval_examples[20]\n"
   ]
  },
  {
   "cell_type": "code",
   "execution_count": 5,
   "metadata": {},
   "outputs": [],
   "source": [
    "def check_question_category(question):\n",
    "    \"\"\" Returns 0 if the first word in the question is 'What'\n",
    "        Returns 1 if the first word in the question is 'Who'/'Where'/'when'\n",
    "        else returns 2\n",
    "    \"\"\"\n",
    "    first_word = question.split()[0]\n",
    "    if first_word.lower() == 'what':\n",
    "        return 0\n",
    "    elif first_word.lower()=='who' or first_word.lower()=='where' or first_word.lower()=='when':\n",
    "        return 1\n",
    "    else:\n",
    "        return 2"
   ]
  },
  {
   "cell_type": "code",
   "execution_count": 6,
   "metadata": {},
   "outputs": [],
   "source": [
    "def removePunctuation(string): \n",
    "    \"\"\"  Removes punctuation marks from\n",
    "     a given string.\n",
    "     Reference : https://www.geeksforgeeks.org/removing-punctuations-given-string/\n",
    "     Eg.\n",
    "     removePunctuation('Coming for dinner?')\n",
    "     will return\n",
    "     'Coming for dinner'\n",
    "     \n",
    "     \"\"\"\n",
    "    # punctuation marks \n",
    "    #punctuations = '''!()-[]{};:'\"\\,<>./?@#$%^&*_~'''\n",
    "    punctuations = '''!()[]{};:'\"\\,<>./?@#$%^&*_~'''\n",
    "    \n",
    "  \n",
    "    # traverse the given string and if any punctuation \n",
    "    # marks occur replace it with null \n",
    "    for x in string.lower(): \n",
    "        if x in punctuations: \n",
    "            string = string.replace(x, \"\")    \n",
    "  \n",
    "    # Print string without punctuation \n",
    "    return string "
   ]
  },
  {
   "cell_type": "code",
   "execution_count": 7,
   "metadata": {},
   "outputs": [
    {
     "name": "stdout",
     "output_type": "stream",
     "text": [
      "130319\n",
      "qas_id: 56bf725c3aeaaa14008c9646, question_text: In which years did Time rate Beyonce in the 100 most influential people in the world?, doc_tokens: [A self-described \"modern-day feminist\", Beyoncé creates songs that are often characterized by themes of love, relationships, and monogamy, as well as female sexuality and empowerment. On stage, her dynamic, highly choreographed performances have led to critics hailing her as one of the best entertainers in contemporary popular music. Throughout a career spanning 19 years, she has sold over 118 million records as a solo artist, and a further 60 million with Destiny's Child, making her one of the best-selling music artists of all time. She has won 20 Grammy Awards and is the most nominated woman in the award's history. The Recording Industry Association of America recognized her as the Top Certified Artist in America during the 2000s decade. In 2009, Billboard named her the Top Radio Songs Artist of the Decade, the Top Female Artist of the 2000s and their Artist of the Millennium in 2011. Time listed her among the 100 most influential people in the world in 2013 and 2014. Forbes magazine also listed her as the most powerful female musician of 2015.], start_position: 160, end_position: 162\n",
      "In which years did Time rate Beyonce in the 100 most influential people in the world\n",
      "In\n"
     ]
    }
   ],
   "source": [
    "## trial: checking for lexical match between rational and question\n",
    "\n",
    "print(len(eval_examples))\n",
    "eg = eval_examples[33]\n",
    "print(eg)\n",
    "new_question = removePunctuation(eg.question_text)\n",
    "print(new_question)\n",
    "print(new_question.split()[0])\n",
    "\n"
   ]
  },
  {
   "cell_type": "code",
   "execution_count": 8,
   "metadata": {},
   "outputs": [],
   "source": [
    "question_category_labels = np.zeros(len(eval_examples))\n",
    "for i,eg in enumerate(eval_examples):\n",
    "    question = eg.question_text\n",
    "    new_question = removePunctuation(question) \n",
    "    question_category_labels[i] = check_question_category(question)\n"
   ]
  },
  {
   "cell_type": "code",
   "execution_count": 9,
   "metadata": {},
   "outputs": [
    {
     "name": "stdout",
     "output_type": "stream",
     "text": [
      "45.54% of questions start with 'what\n",
      "19.29% of questions start with 'who' or 'where' or 'when'\n",
      "35.18% of questions start with other misc words\n"
     ]
    }
   ],
   "source": [
    "percentage_what = sum(question_category_labels==0)/len(question_category_labels)*100\n",
    "print('{:.2f}% of questions start with \\'what'.format(percentage_what))\n",
    "percentage_who = sum(question_category_labels==1)/len(question_category_labels)*100\n",
    "print('{:.2f}% of questions start with \\'who\\' or \\'where\\' or \\'when\\''.format(percentage_who))\n",
    "percentage_others = sum(question_category_labels==2)/len(question_category_labels)*100\n",
    "print('{:.2f}% of questions start with other misc words'.format(percentage_others))"
   ]
  },
  {
   "cell_type": "code",
   "execution_count": 10,
   "metadata": {},
   "outputs": [],
   "source": [
    "np.save('../outputs/labels_of_squad_question_category_train_data.npy',question_category_labels) "
   ]
  },
  {
   "cell_type": "code",
   "execution_count": 11,
   "metadata": {},
   "outputs": [
    {
     "data": {
      "text/plain": [
       "130319"
      ]
     },
     "execution_count": 11,
     "metadata": {},
     "output_type": "execute_result"
    }
   ],
   "source": [
    "question_category_labels.size"
   ]
  },
  {
   "cell_type": "code",
   "execution_count": 12,
   "metadata": {},
   "outputs": [
    {
     "name": "stdout",
     "output_type": "stream",
     "text": [
      "41.67% of questions start with 'what\n",
      "19.97% of questions start with 'who' or 'where' or 'when'\n",
      "38.36% of questions start with other misc words\n"
     ]
    }
   ],
   "source": [
    "percentage_what = sum(question_category_labels[:25000]==0)/len(question_category_labels[:25000])*100\n",
    "print('{:.2f}% of questions start with \\'what'.format(percentage_what))\n",
    "percentage_who = sum(question_category_labels[:25000]==1)/len(question_category_labels[:25000])*100\n",
    "print('{:.2f}% of questions start with \\'who\\' or \\'where\\' or \\'when\\''.format(percentage_who))\n",
    "percentage_others = sum(question_category_labels[:25000]==2)/len(question_category_labels[:25000])*100\n",
    "print('{:.2f}% of questions start with other misc words'.format(percentage_others))"
   ]
  },
  {
   "cell_type": "code",
   "execution_count": null,
   "metadata": {},
   "outputs": [],
   "source": []
  }
 ],
 "metadata": {
  "kernelspec": {
   "display_name": "Python 3",
   "language": "python",
   "name": "python3"
  },
  "language_info": {
   "codemirror_mode": {
    "name": "ipython",
    "version": 3
   },
   "file_extension": ".py",
   "mimetype": "text/x-python",
   "name": "python",
   "nbconvert_exporter": "python",
   "pygments_lexer": "ipython3",
   "version": "3.8.3"
  }
 },
 "nbformat": 4,
 "nbformat_minor": 4
}
