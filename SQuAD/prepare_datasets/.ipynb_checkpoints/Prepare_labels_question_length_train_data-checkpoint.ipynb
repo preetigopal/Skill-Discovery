{
 "cells": [
  {
   "cell_type": "code",
   "execution_count": 1,
   "metadata": {},
   "outputs": [],
   "source": [
    "import numpy as np\n",
    "from tqdm import tqdm\n",
    "import torch"
   ]
  },
  {
   "cell_type": "code",
   "execution_count": 2,
   "metadata": {},
   "outputs": [],
   "source": [
    "eval_examples = torch.load('../outputs/squad_examples_train_data.pt')"
   ]
  },
  {
   "cell_type": "code",
   "execution_count": 3,
   "metadata": {},
   "outputs": [
    {
     "name": "stdout",
     "output_type": "stream",
     "text": [
      "130319\n",
      "<class 'list'>\n"
     ]
    }
   ],
   "source": [
    "print(len(eval_examples))\n",
    "print(type(eval_examples))"
   ]
  },
  {
   "cell_type": "code",
   "execution_count": 4,
   "metadata": {},
   "outputs": [
    {
     "data": {
      "text/plain": [
       "qas_id: 56bf6e823aeaaa14008c962a, question_text: Which album was darker in tone from her previous work?, doc_tokens: [Following the disbandment of Destiny's Child in June 2005, she released her second solo album, B'Day (2006), which contained hits \"Déjà Vu\", \"Irreplaceable\", and \"Beautiful Liar\". Beyoncé also ventured into acting, with a Golden Globe-nominated performance in Dreamgirls (2006), and starring roles in The Pink Panther (2006) and Obsessed (2009). Her marriage to rapper Jay Z and portrayal of Etta James in Cadillac Records (2008) influenced her third album, I Am... Sasha Fierce (2008), which saw the birth of her alter-ego Sasha Fierce and earned a record-setting six Grammy Awards in 2010, including Song of the Year for \"Single Ladies (Put a Ring on It)\". Beyoncé took a hiatus from music in 2010 and took over management of her career; her fourth album 4 (2011) was subsequently mellower in tone, exploring 1970s funk, 1980s pop, and 1990s soul. Her critically acclaimed fifth studio album, Beyoncé (2013), was distinguished from previous releases by its experimental production and exploration of darker themes.], start_position: 26, end_position: 26"
      ]
     },
     "execution_count": 4,
     "metadata": {},
     "output_type": "execute_result"
    }
   ],
   "source": [
    "eval_examples[20]\n"
   ]
  },
  {
   "cell_type": "code",
   "execution_count": 5,
   "metadata": {},
   "outputs": [
    {
     "name": "stdout",
     "output_type": "stream",
     "text": [
      "130319\n",
      "On what part of newer iPods can you find the buttons?\n",
      "['On', 'what', 'part', 'of', 'newer', 'iPods', 'can', 'you', 'find', 'the', 'buttons?']\n",
      "11\n",
      "When did Beyonce start becoming popular?\n",
      "0.0\n",
      "What areas did Beyonce compete in when she was growing up?\n",
      "1.0\n",
      "When did Beyonce leave Destiny's Child and become a solo singer?\n",
      "1.0\n",
      "In what city and state did Beyonce  grow up? \n",
      "0.0\n",
      "In which decade did Beyonce become famous?\n",
      "0.0\n",
      "In what R&B group was she the lead singer?\n",
      "0.0\n",
      "What album made her a worldwide known artist?\n",
      "0.0\n",
      "Who managed the Destiny's Child group?\n",
      "0.0\n",
      "When did Beyoncé rise to fame?\n",
      "0.0\n",
      "What role did Beyoncé have in Destiny's Child?\n",
      "0.0\n",
      "What was the first album Beyoncé released as a solo artist?\n",
      "1.0\n",
      "When did Beyoncé release Dangerously in Love?\n",
      "0.0\n",
      "How many Grammy awards did Beyoncé win for her first solo album?\n",
      "1.0\n",
      "What was Beyoncé's role in Destiny's Child?\n",
      "0.0\n",
      "What was the name of Beyoncé's first solo album?\n",
      "0.0\n",
      "After her second solo album, what other entertainment venture did Beyonce explore?\n",
      "1.0\n",
      "Which artist did Beyonce marry?\n",
      "0.0\n",
      "To set the record for Grammys, how many did Beyonce win?\n",
      "1.0\n",
      "For what movie did Beyonce receive  her first Golden Globe nomination?\n",
      "1.0\n",
      "When did Beyonce take a hiatus in her career and take control of her management?\n",
      "1.0\n",
      "Which album was darker in tone from her previous work?\n",
      "1.0\n",
      "After what movie portraying Etta James, did Beyonce create Sasha Fierce?\n",
      "1.0\n",
      "When did Destiny's Child end their group act?\n",
      "0.0\n",
      "What was the name of Beyoncé's second solo album?\n",
      "0.0\n",
      "What was Beyoncé's first acting job, in 2006?\n",
      "0.0\n",
      "Who is Beyoncé married to?\n",
      "0.0\n",
      "What is the name of Beyoncé's alter-ego?\n",
      "0.0\n",
      "In her music, what are some recurring elements in them?\n",
      "1.0\n",
      "Time magazine named her one of the most 100 what people of the century?\n",
      "1.0\n",
      "Which magazine declared her the most dominant woman musician?\n",
      "0.0\n"
     ]
    }
   ],
   "source": [
    "print(len(eval_examples))\n",
    "eg = eval_examples[1890]\n",
    "#print(eg.question_text)\n",
    "print(eg.question_text)\n",
    "question = eg.question_text\n",
    "print(question.split())\n",
    "print(len(question.split()))\n",
    "\n",
    "question_length_labels = np.zeros(len(eval_examples[:30])) # assume no_lexical match to start with\n",
    "\n",
    "for i,eg in enumerate(eval_examples[:30]):\n",
    "    question = eg.question_text\n",
    "    question_length = len(question.split())\n",
    "    print(question)\n",
    "    question_length_labels[i] = 0 if question_length<10 else 1\n",
    "    print(question_length_labels[i])\n"
   ]
  },
  {
   "cell_type": "code",
   "execution_count": 6,
   "metadata": {},
   "outputs": [],
   "source": [
    "question_length_labels = np.zeros(len(eval_examples)) # assume no_lexical match to start with\n",
    "\n",
    "for i,eg in enumerate(eval_examples):\n",
    "    question = eg.question_text\n",
    "    question_length = len(question.split())\n",
    "    #print(question)\n",
    "    question_length_labels[i] = 0 if question_length<10 else 1\n",
    "    #print(question_length_labels[i])"
   ]
  },
  {
   "cell_type": "code",
   "execution_count": 7,
   "metadata": {},
   "outputs": [
    {
     "name": "stdout",
     "output_type": "stream",
     "text": [
      "48.71% of questions have a length > 9\n"
     ]
    }
   ],
   "source": [
    "percentage_big_questions = sum(question_length_labels)/len(question_length_labels)*100\n",
    "print('{:.2f}% of questions have a length > 9'.format(percentage_big_questions))"
   ]
  },
  {
   "cell_type": "code",
   "execution_count": 8,
   "metadata": {},
   "outputs": [],
   "source": [
    "np.save('../outputs/labels_of_squad_question_length_train_data.npy',question_length_labels) "
   ]
  },
  {
   "cell_type": "code",
   "execution_count": 9,
   "metadata": {},
   "outputs": [
    {
     "name": "stdout",
     "output_type": "stream",
     "text": [
      "51.40% of questions have a length > 9\n"
     ]
    }
   ],
   "source": [
    "percentage_big_questions = sum(question_length_labels[:25000])/len(question_length_labels[:25000])*100\n",
    "print('{:.2f}% of questions have a length > 9'.format(percentage_big_questions))"
   ]
  },
  {
   "cell_type": "code",
   "execution_count": 10,
   "metadata": {},
   "outputs": [
    {
     "data": {
      "text/plain": [
       "130319"
      ]
     },
     "execution_count": 10,
     "metadata": {},
     "output_type": "execute_result"
    }
   ],
   "source": [
    "len(question_length_labels)"
   ]
  },
  {
   "cell_type": "code",
   "execution_count": 11,
   "metadata": {},
   "outputs": [
    {
     "data": {
      "text/plain": [
       "130319"
      ]
     },
     "execution_count": 11,
     "metadata": {},
     "output_type": "execute_result"
    }
   ],
   "source": [
    "len(eval_examples)"
   ]
  },
  {
   "cell_type": "code",
   "execution_count": null,
   "metadata": {},
   "outputs": [],
   "source": []
  }
 ],
 "metadata": {
  "kernelspec": {
   "display_name": "Python 3",
   "language": "python",
   "name": "python3"
  },
  "language_info": {
   "codemirror_mode": {
    "name": "ipython",
    "version": 3
   },
   "file_extension": ".py",
   "mimetype": "text/x-python",
   "name": "python",
   "nbconvert_exporter": "python",
   "pygments_lexer": "ipython3",
   "version": "3.8.3"
  }
 },
 "nbformat": 4,
 "nbformat_minor": 4
}
